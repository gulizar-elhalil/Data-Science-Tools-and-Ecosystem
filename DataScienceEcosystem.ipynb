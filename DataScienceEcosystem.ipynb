{
 "cells": [
  {
   "cell_type": "markdown",
   "id": "7913eff1-dade-4431-8a29-e296faffb63e",
   "metadata": {},
   "source": [
    "## Data Science Tools and Ecosystem"
   ]
  },
  {
   "cell_type": "markdown",
   "id": "be62b472-c3d8-441c-a86d-3a18eda8948c",
   "metadata": {},
   "source": [
    "In this notebook, Data Science Tools and Ecosystem are summarized."
   ]
  },
  {
   "cell_type": "markdown",
   "id": "77f6daad-e016-46d7-b58c-0dd49a399de0",
   "metadata": {},
   "source": [
    "-Some of the popular languages that Data Scientists use are:\n",
    "   1. Python \n",
    "   2. R \n",
    "   3. SQL"
   ]
  },
  {
   "cell_type": "markdown",
   "id": "bce72c5b-5695-4115-abc9-f577cfe4bba8",
   "metadata": {},
   "source": [
    "-Some of the commonly used libraries used by Data Scientists include:\n",
    "   1. Pandas\n",
    "   2. Numpy\n",
    "   3. scikit-learn\n",
    "   4. Tensorflow\n",
    "   5. Matplotlab"
   ]
  },
  {
   "cell_type": "markdown",
   "id": "52d7d2ac-811a-40df-b0c7-ad08de945530",
   "metadata": {},
   "source": [
    "| Data Science Tools |\n",
    "| --- |\n",
    "|Jupyter Notebook|\n",
    "|Spyder |\n",
    "| R studio |"
   ]
  },
  {
   "cell_type": "markdown",
   "id": "89688c0a-b48f-4d17-8d34-79f4f015d1d0",
   "metadata": {},
   "source": [
    "Below are a few examples of evaluating arithmetic expressions in Python"
   ]
  },
  {
   "cell_type": "code",
   "execution_count": 2,
   "id": "89a3dbac-5669-4d1c-a7b3-765a2c4c698a",
   "metadata": {},
   "outputs": [
    {
     "data": {
      "text/plain": [
       "17"
      ]
     },
     "execution_count": 2,
     "metadata": {},
     "output_type": "execute_result"
    }
   ],
   "source": [
    "# This a simple arithmetic expression to mutiply then add integers\n",
    "(3*4)+5"
   ]
  },
  {
   "cell_type": "code",
   "execution_count": 6,
   "id": "f846fe25-a23f-4f83-b0ff-bd6cf061f6d1",
   "metadata": {},
   "outputs": [
    {
     "data": {
      "text/plain": [
       "3.3333333333333335"
      ]
     },
     "execution_count": 6,
     "metadata": {},
     "output_type": "execute_result"
    }
   ],
   "source": [
    "#This will convert 200 minutes to hours by diving by 60\n",
    "200/60"
   ]
  },
  {
   "cell_type": "markdown",
   "id": "c2d6d17b-da1d-4a89-a0df-6e79bcaa9c73",
   "metadata": {},
   "source": [
    "Objectives:"
   ]
  },
  {
   "cell_type": "markdown",
   "id": "28d98ae9-1a3a-43fd-9ed5-af3175f510ff",
   "metadata": {},
   "source": [
    "- Some of the popular languages that Data Scientists use are:<br>\n",
    "    - Python <br>\n",
    "    - Java<br>\n",
    "    - julia<br>\n",
    "    - SQL\n",
    "    "
   ]
  },
  {
   "cell_type": "markdown",
   "id": "37ae05d1-a4a5-4ead-af11-c19aaf7f2de9",
   "metadata": {},
   "source": [
    "### Author"
   ]
  },
  {
   "cell_type": "markdown",
   "id": "d110fc3e-1f72-4fa0-866d-ff03ca2ba636",
   "metadata": {},
   "source": [
    "Gulizar Elhalil"
   ]
  },
  {
   "cell_type": "code",
   "execution_count": null,
   "id": "436401be-b460-4bb1-a32c-c258f083725b",
   "metadata": {},
   "outputs": [],
   "source": []
  }
 ],
 "metadata": {
  "kernelspec": {
   "display_name": "Python 3 (ipykernel)",
   "language": "python",
   "name": "python3"
  },
  "language_info": {
   "codemirror_mode": {
    "name": "ipython",
    "version": 3
   },
   "file_extension": ".py",
   "mimetype": "text/x-python",
   "name": "python",
   "nbconvert_exporter": "python",
   "pygments_lexer": "ipython3",
   "version": "3.8.8"
  }
 },
 "nbformat": 4,
 "nbformat_minor": 5
}
